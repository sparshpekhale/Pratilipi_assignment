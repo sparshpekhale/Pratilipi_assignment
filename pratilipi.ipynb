{
  "nbformat": 4,
  "nbformat_minor": 0,
  "metadata": {
    "colab": {
      "provenance": [],
      "collapsed_sections": []
    },
    "kernelspec": {
      "name": "python3",
      "display_name": "Python 3"
    },
    "language_info": {
      "name": "python"
    },
    "accelerator": "GPU"
  },
  "cells": [
    {
      "cell_type": "markdown",
      "source": [
        "## Import Data from drive"
      ],
      "metadata": {
        "id": "_2vRcN_-7pW6"
      }
    },
    {
      "cell_type": "code",
      "execution_count": 1,
      "metadata": {
        "id": "YnnMlzD-C39T",
        "colab": {
          "base_uri": "https://localhost:8080/"
        },
        "outputId": "80da8c78-18d8-4199-ea50-5fa1be4f6883"
      },
      "outputs": [
        {
          "output_type": "stream",
          "name": "stdout",
          "text": [
            "Mounted at /content/drive\n"
          ]
        }
      ],
      "source": [
        "from google.colab import drive\n",
        "drive.mount('/content/drive')"
      ]
    },
    {
      "cell_type": "code",
      "source": [
        "!unzip ./drive/MyDrive/ds-assignment.zip -d ."
      ],
      "metadata": {
        "id": "_UbmArYI4hwq",
        "colab": {
          "base_uri": "https://localhost:8080/"
        },
        "outputId": "4bb54828-d769-43b9-f9d1-926a0825de82"
      },
      "execution_count": 2,
      "outputs": [
        {
          "output_type": "stream",
          "name": "stdout",
          "text": [
            "Archive:  ./drive/MyDrive/ds-assignment.zip\n",
            "   creating: ./ds-assignment/\n",
            "  inflating: ./ds-assignment/user-interactions.csv  \n",
            "  inflating: ./ds-assignment/metadata.csv  \n",
            "   creating: ./__MACOSX/\n",
            "   creating: ./__MACOSX/ds-assignment/\n",
            "  inflating: ./__MACOSX/ds-assignment/._metadata.csv  \n",
            "  inflating: ./__MACOSX/._ds-assignment  \n"
          ]
        }
      ]
    },
    {
      "cell_type": "markdown",
      "source": [
        "## EDA"
      ],
      "metadata": {
        "id": "MSM9S48I7sbv"
      }
    },
    {
      "cell_type": "code",
      "source": [
        "!pip install -q tensorflow-recommenders"
      ],
      "metadata": {
        "colab": {
          "base_uri": "https://localhost:8080/"
        },
        "id": "3A61FbHsho0v",
        "outputId": "d19ebc96-aa58-4aaa-c439-ed1dc9fd8a1f"
      },
      "execution_count": 3,
      "outputs": [
        {
          "output_type": "stream",
          "name": "stdout",
          "text": [
            "\u001b[?25l\r\u001b[K     |███▊                            | 10 kB 31.4 MB/s eta 0:00:01\r\u001b[K     |███████▍                        | 20 kB 37.6 MB/s eta 0:00:01\r\u001b[K     |███████████                     | 30 kB 45.9 MB/s eta 0:00:01\r\u001b[K     |██████████████▊                 | 40 kB 38.2 MB/s eta 0:00:01\r\u001b[K     |██████████████████▍             | 51 kB 41.7 MB/s eta 0:00:01\r\u001b[K     |██████████████████████          | 61 kB 46.2 MB/s eta 0:00:01\r\u001b[K     |█████████████████████████▊      | 71 kB 32.0 MB/s eta 0:00:01\r\u001b[K     |█████████████████████████████▍  | 81 kB 33.6 MB/s eta 0:00:01\r\u001b[K     |████████████████████████████████| 89 kB 5.6 MB/s \n",
            "\u001b[?25h"
          ]
        }
      ]
    },
    {
      "cell_type": "code",
      "source": [
        "import pandas as pd\n",
        "import numpy as np\n",
        "from datetime import datetime\n",
        "import tensorflow as tf\n",
        "import tensorflow_recommenders as tfrs"
      ],
      "metadata": {
        "id": "eoIyeK9g7fqq"
      },
      "execution_count": 4,
      "outputs": []
    },
    {
      "cell_type": "code",
      "source": [
        "# Reading 100000 rows\n",
        "df = pd.read_csv('./ds-assignment/user-interactions.csv', index_col=0, nrows=10000)\n",
        "df.sort_values(by='updated_at')"
      ],
      "metadata": {
        "colab": {
          "base_uri": "https://localhost:8080/",
          "height": 424
        },
        "id": "sDAEt1wq73MM",
        "outputId": "b622f476-4b6a-48cf-a4eb-c9d3d412cc59"
      },
      "execution_count": 5,
      "outputs": [
        {
          "output_type": "execute_result",
          "data": {
            "text/plain": [
              "               user_id      pratilipi_id  read_percent  \\\n",
              "9999  5506791959794458  1377786226624397         100.0   \n",
              "9998  5506791989472705  1377786223830664         100.0   \n",
              "9997  5506791953970553  1377786217369353         100.0   \n",
              "9996  5506791952924850  1377786226612455         100.0   \n",
              "9995  5506791976797196  1377786228368115         100.0   \n",
              "...                ...               ...           ...   \n",
              "4     5506791992372558  1377786218111595         100.0   \n",
              "3     5506791988747277  1377786224767880         100.0   \n",
              "2     5506791980256358  1377786217096334          22.0   \n",
              "1     5506791979071996  1377786219742624          29.0   \n",
              "0     5506791963854965  1377786220672965         100.0   \n",
              "\n",
              "                   updated_at  \n",
              "9999  2022-03-22 23:45:38.176  \n",
              "9998  2022-03-22 23:45:38.356  \n",
              "9997  2022-03-22 23:45:38.515  \n",
              "9996  2022-03-22 23:45:38.576  \n",
              "9995  2022-03-22 23:45:38.726  \n",
              "...                       ...  \n",
              "4     2022-03-23 00:08:25.250  \n",
              "3     2022-03-23 00:08:25.306  \n",
              "2     2022-03-23 00:08:26.020  \n",
              "1     2022-03-23 00:08:26.220  \n",
              "0     2022-03-23 00:08:26.227  \n",
              "\n",
              "[10000 rows x 4 columns]"
            ],
            "text/html": [
              "\n",
              "  <div id=\"df-66c44ecf-56c8-4117-932f-78e2dd8eb274\">\n",
              "    <div class=\"colab-df-container\">\n",
              "      <div>\n",
              "<style scoped>\n",
              "    .dataframe tbody tr th:only-of-type {\n",
              "        vertical-align: middle;\n",
              "    }\n",
              "\n",
              "    .dataframe tbody tr th {\n",
              "        vertical-align: top;\n",
              "    }\n",
              "\n",
              "    .dataframe thead th {\n",
              "        text-align: right;\n",
              "    }\n",
              "</style>\n",
              "<table border=\"1\" class=\"dataframe\">\n",
              "  <thead>\n",
              "    <tr style=\"text-align: right;\">\n",
              "      <th></th>\n",
              "      <th>user_id</th>\n",
              "      <th>pratilipi_id</th>\n",
              "      <th>read_percent</th>\n",
              "      <th>updated_at</th>\n",
              "    </tr>\n",
              "  </thead>\n",
              "  <tbody>\n",
              "    <tr>\n",
              "      <th>9999</th>\n",
              "      <td>5506791959794458</td>\n",
              "      <td>1377786226624397</td>\n",
              "      <td>100.0</td>\n",
              "      <td>2022-03-22 23:45:38.176</td>\n",
              "    </tr>\n",
              "    <tr>\n",
              "      <th>9998</th>\n",
              "      <td>5506791989472705</td>\n",
              "      <td>1377786223830664</td>\n",
              "      <td>100.0</td>\n",
              "      <td>2022-03-22 23:45:38.356</td>\n",
              "    </tr>\n",
              "    <tr>\n",
              "      <th>9997</th>\n",
              "      <td>5506791953970553</td>\n",
              "      <td>1377786217369353</td>\n",
              "      <td>100.0</td>\n",
              "      <td>2022-03-22 23:45:38.515</td>\n",
              "    </tr>\n",
              "    <tr>\n",
              "      <th>9996</th>\n",
              "      <td>5506791952924850</td>\n",
              "      <td>1377786226612455</td>\n",
              "      <td>100.0</td>\n",
              "      <td>2022-03-22 23:45:38.576</td>\n",
              "    </tr>\n",
              "    <tr>\n",
              "      <th>9995</th>\n",
              "      <td>5506791976797196</td>\n",
              "      <td>1377786228368115</td>\n",
              "      <td>100.0</td>\n",
              "      <td>2022-03-22 23:45:38.726</td>\n",
              "    </tr>\n",
              "    <tr>\n",
              "      <th>...</th>\n",
              "      <td>...</td>\n",
              "      <td>...</td>\n",
              "      <td>...</td>\n",
              "      <td>...</td>\n",
              "    </tr>\n",
              "    <tr>\n",
              "      <th>4</th>\n",
              "      <td>5506791992372558</td>\n",
              "      <td>1377786218111595</td>\n",
              "      <td>100.0</td>\n",
              "      <td>2022-03-23 00:08:25.250</td>\n",
              "    </tr>\n",
              "    <tr>\n",
              "      <th>3</th>\n",
              "      <td>5506791988747277</td>\n",
              "      <td>1377786224767880</td>\n",
              "      <td>100.0</td>\n",
              "      <td>2022-03-23 00:08:25.306</td>\n",
              "    </tr>\n",
              "    <tr>\n",
              "      <th>2</th>\n",
              "      <td>5506791980256358</td>\n",
              "      <td>1377786217096334</td>\n",
              "      <td>22.0</td>\n",
              "      <td>2022-03-23 00:08:26.020</td>\n",
              "    </tr>\n",
              "    <tr>\n",
              "      <th>1</th>\n",
              "      <td>5506791979071996</td>\n",
              "      <td>1377786219742624</td>\n",
              "      <td>29.0</td>\n",
              "      <td>2022-03-23 00:08:26.220</td>\n",
              "    </tr>\n",
              "    <tr>\n",
              "      <th>0</th>\n",
              "      <td>5506791963854965</td>\n",
              "      <td>1377786220672965</td>\n",
              "      <td>100.0</td>\n",
              "      <td>2022-03-23 00:08:26.227</td>\n",
              "    </tr>\n",
              "  </tbody>\n",
              "</table>\n",
              "<p>10000 rows × 4 columns</p>\n",
              "</div>\n",
              "      <button class=\"colab-df-convert\" onclick=\"convertToInteractive('df-66c44ecf-56c8-4117-932f-78e2dd8eb274')\"\n",
              "              title=\"Convert this dataframe to an interactive table.\"\n",
              "              style=\"display:none;\">\n",
              "        \n",
              "  <svg xmlns=\"http://www.w3.org/2000/svg\" height=\"24px\"viewBox=\"0 0 24 24\"\n",
              "       width=\"24px\">\n",
              "    <path d=\"M0 0h24v24H0V0z\" fill=\"none\"/>\n",
              "    <path d=\"M18.56 5.44l.94 2.06.94-2.06 2.06-.94-2.06-.94-.94-2.06-.94 2.06-2.06.94zm-11 1L8.5 8.5l.94-2.06 2.06-.94-2.06-.94L8.5 2.5l-.94 2.06-2.06.94zm10 10l.94 2.06.94-2.06 2.06-.94-2.06-.94-.94-2.06-.94 2.06-2.06.94z\"/><path d=\"M17.41 7.96l-1.37-1.37c-.4-.4-.92-.59-1.43-.59-.52 0-1.04.2-1.43.59L10.3 9.45l-7.72 7.72c-.78.78-.78 2.05 0 2.83L4 21.41c.39.39.9.59 1.41.59.51 0 1.02-.2 1.41-.59l7.78-7.78 2.81-2.81c.8-.78.8-2.07 0-2.86zM5.41 20L4 18.59l7.72-7.72 1.47 1.35L5.41 20z\"/>\n",
              "  </svg>\n",
              "      </button>\n",
              "      \n",
              "  <style>\n",
              "    .colab-df-container {\n",
              "      display:flex;\n",
              "      flex-wrap:wrap;\n",
              "      gap: 12px;\n",
              "    }\n",
              "\n",
              "    .colab-df-convert {\n",
              "      background-color: #E8F0FE;\n",
              "      border: none;\n",
              "      border-radius: 50%;\n",
              "      cursor: pointer;\n",
              "      display: none;\n",
              "      fill: #1967D2;\n",
              "      height: 32px;\n",
              "      padding: 0 0 0 0;\n",
              "      width: 32px;\n",
              "    }\n",
              "\n",
              "    .colab-df-convert:hover {\n",
              "      background-color: #E2EBFA;\n",
              "      box-shadow: 0px 1px 2px rgba(60, 64, 67, 0.3), 0px 1px 3px 1px rgba(60, 64, 67, 0.15);\n",
              "      fill: #174EA6;\n",
              "    }\n",
              "\n",
              "    [theme=dark] .colab-df-convert {\n",
              "      background-color: #3B4455;\n",
              "      fill: #D2E3FC;\n",
              "    }\n",
              "\n",
              "    [theme=dark] .colab-df-convert:hover {\n",
              "      background-color: #434B5C;\n",
              "      box-shadow: 0px 1px 3px 1px rgba(0, 0, 0, 0.15);\n",
              "      filter: drop-shadow(0px 1px 2px rgba(0, 0, 0, 0.3));\n",
              "      fill: #FFFFFF;\n",
              "    }\n",
              "  </style>\n",
              "\n",
              "      <script>\n",
              "        const buttonEl =\n",
              "          document.querySelector('#df-66c44ecf-56c8-4117-932f-78e2dd8eb274 button.colab-df-convert');\n",
              "        buttonEl.style.display =\n",
              "          google.colab.kernel.accessAllowed ? 'block' : 'none';\n",
              "\n",
              "        async function convertToInteractive(key) {\n",
              "          const element = document.querySelector('#df-66c44ecf-56c8-4117-932f-78e2dd8eb274');\n",
              "          const dataTable =\n",
              "            await google.colab.kernel.invokeFunction('convertToInteractive',\n",
              "                                                     [key], {});\n",
              "          if (!dataTable) return;\n",
              "\n",
              "          const docLinkHtml = 'Like what you see? Visit the ' +\n",
              "            '<a target=\"_blank\" href=https://colab.research.google.com/notebooks/data_table.ipynb>data table notebook</a>'\n",
              "            + ' to learn more about interactive tables.';\n",
              "          element.innerHTML = '';\n",
              "          dataTable['output_type'] = 'display_data';\n",
              "          await google.colab.output.renderOutput(dataTable, element);\n",
              "          const docLink = document.createElement('div');\n",
              "          docLink.innerHTML = docLinkHtml;\n",
              "          element.appendChild(docLink);\n",
              "        }\n",
              "      </script>\n",
              "    </div>\n",
              "  </div>\n",
              "  "
            ]
          },
          "metadata": {},
          "execution_count": 5
        }
      ]
    },
    {
      "cell_type": "code",
      "source": [
        "ratings = df.drop(['updated_at'], axis=1)\n",
        "ratings"
      ],
      "metadata": {
        "colab": {
          "base_uri": "https://localhost:8080/",
          "height": 424
        },
        "id": "fPu_xcdh9Ic-",
        "outputId": "206112d9-422f-4735-a056-c56b3a885ca4"
      },
      "execution_count": 6,
      "outputs": [
        {
          "output_type": "execute_result",
          "data": {
            "text/plain": [
              "               user_id      pratilipi_id  read_percent\n",
              "0     5506791963854965  1377786220672965         100.0\n",
              "1     5506791979071996  1377786219742624          29.0\n",
              "2     5506791980256358  1377786217096334          22.0\n",
              "3     5506791988747277  1377786224767880         100.0\n",
              "4     5506791992372558  1377786218111595         100.0\n",
              "...                ...               ...           ...\n",
              "9995  5506791976797196  1377786228368115         100.0\n",
              "9996  5506791952924850  1377786226612455         100.0\n",
              "9997  5506791953970553  1377786217369353         100.0\n",
              "9998  5506791989472705  1377786223830664         100.0\n",
              "9999  5506791959794458  1377786226624397         100.0\n",
              "\n",
              "[10000 rows x 3 columns]"
            ],
            "text/html": [
              "\n",
              "  <div id=\"df-57feda6d-49bd-4b74-92e8-a7d37460be70\">\n",
              "    <div class=\"colab-df-container\">\n",
              "      <div>\n",
              "<style scoped>\n",
              "    .dataframe tbody tr th:only-of-type {\n",
              "        vertical-align: middle;\n",
              "    }\n",
              "\n",
              "    .dataframe tbody tr th {\n",
              "        vertical-align: top;\n",
              "    }\n",
              "\n",
              "    .dataframe thead th {\n",
              "        text-align: right;\n",
              "    }\n",
              "</style>\n",
              "<table border=\"1\" class=\"dataframe\">\n",
              "  <thead>\n",
              "    <tr style=\"text-align: right;\">\n",
              "      <th></th>\n",
              "      <th>user_id</th>\n",
              "      <th>pratilipi_id</th>\n",
              "      <th>read_percent</th>\n",
              "    </tr>\n",
              "  </thead>\n",
              "  <tbody>\n",
              "    <tr>\n",
              "      <th>0</th>\n",
              "      <td>5506791963854965</td>\n",
              "      <td>1377786220672965</td>\n",
              "      <td>100.0</td>\n",
              "    </tr>\n",
              "    <tr>\n",
              "      <th>1</th>\n",
              "      <td>5506791979071996</td>\n",
              "      <td>1377786219742624</td>\n",
              "      <td>29.0</td>\n",
              "    </tr>\n",
              "    <tr>\n",
              "      <th>2</th>\n",
              "      <td>5506791980256358</td>\n",
              "      <td>1377786217096334</td>\n",
              "      <td>22.0</td>\n",
              "    </tr>\n",
              "    <tr>\n",
              "      <th>3</th>\n",
              "      <td>5506791988747277</td>\n",
              "      <td>1377786224767880</td>\n",
              "      <td>100.0</td>\n",
              "    </tr>\n",
              "    <tr>\n",
              "      <th>4</th>\n",
              "      <td>5506791992372558</td>\n",
              "      <td>1377786218111595</td>\n",
              "      <td>100.0</td>\n",
              "    </tr>\n",
              "    <tr>\n",
              "      <th>...</th>\n",
              "      <td>...</td>\n",
              "      <td>...</td>\n",
              "      <td>...</td>\n",
              "    </tr>\n",
              "    <tr>\n",
              "      <th>9995</th>\n",
              "      <td>5506791976797196</td>\n",
              "      <td>1377786228368115</td>\n",
              "      <td>100.0</td>\n",
              "    </tr>\n",
              "    <tr>\n",
              "      <th>9996</th>\n",
              "      <td>5506791952924850</td>\n",
              "      <td>1377786226612455</td>\n",
              "      <td>100.0</td>\n",
              "    </tr>\n",
              "    <tr>\n",
              "      <th>9997</th>\n",
              "      <td>5506791953970553</td>\n",
              "      <td>1377786217369353</td>\n",
              "      <td>100.0</td>\n",
              "    </tr>\n",
              "    <tr>\n",
              "      <th>9998</th>\n",
              "      <td>5506791989472705</td>\n",
              "      <td>1377786223830664</td>\n",
              "      <td>100.0</td>\n",
              "    </tr>\n",
              "    <tr>\n",
              "      <th>9999</th>\n",
              "      <td>5506791959794458</td>\n",
              "      <td>1377786226624397</td>\n",
              "      <td>100.0</td>\n",
              "    </tr>\n",
              "  </tbody>\n",
              "</table>\n",
              "<p>10000 rows × 3 columns</p>\n",
              "</div>\n",
              "      <button class=\"colab-df-convert\" onclick=\"convertToInteractive('df-57feda6d-49bd-4b74-92e8-a7d37460be70')\"\n",
              "              title=\"Convert this dataframe to an interactive table.\"\n",
              "              style=\"display:none;\">\n",
              "        \n",
              "  <svg xmlns=\"http://www.w3.org/2000/svg\" height=\"24px\"viewBox=\"0 0 24 24\"\n",
              "       width=\"24px\">\n",
              "    <path d=\"M0 0h24v24H0V0z\" fill=\"none\"/>\n",
              "    <path d=\"M18.56 5.44l.94 2.06.94-2.06 2.06-.94-2.06-.94-.94-2.06-.94 2.06-2.06.94zm-11 1L8.5 8.5l.94-2.06 2.06-.94-2.06-.94L8.5 2.5l-.94 2.06-2.06.94zm10 10l.94 2.06.94-2.06 2.06-.94-2.06-.94-.94-2.06-.94 2.06-2.06.94z\"/><path d=\"M17.41 7.96l-1.37-1.37c-.4-.4-.92-.59-1.43-.59-.52 0-1.04.2-1.43.59L10.3 9.45l-7.72 7.72c-.78.78-.78 2.05 0 2.83L4 21.41c.39.39.9.59 1.41.59.51 0 1.02-.2 1.41-.59l7.78-7.78 2.81-2.81c.8-.78.8-2.07 0-2.86zM5.41 20L4 18.59l7.72-7.72 1.47 1.35L5.41 20z\"/>\n",
              "  </svg>\n",
              "      </button>\n",
              "      \n",
              "  <style>\n",
              "    .colab-df-container {\n",
              "      display:flex;\n",
              "      flex-wrap:wrap;\n",
              "      gap: 12px;\n",
              "    }\n",
              "\n",
              "    .colab-df-convert {\n",
              "      background-color: #E8F0FE;\n",
              "      border: none;\n",
              "      border-radius: 50%;\n",
              "      cursor: pointer;\n",
              "      display: none;\n",
              "      fill: #1967D2;\n",
              "      height: 32px;\n",
              "      padding: 0 0 0 0;\n",
              "      width: 32px;\n",
              "    }\n",
              "\n",
              "    .colab-df-convert:hover {\n",
              "      background-color: #E2EBFA;\n",
              "      box-shadow: 0px 1px 2px rgba(60, 64, 67, 0.3), 0px 1px 3px 1px rgba(60, 64, 67, 0.15);\n",
              "      fill: #174EA6;\n",
              "    }\n",
              "\n",
              "    [theme=dark] .colab-df-convert {\n",
              "      background-color: #3B4455;\n",
              "      fill: #D2E3FC;\n",
              "    }\n",
              "\n",
              "    [theme=dark] .colab-df-convert:hover {\n",
              "      background-color: #434B5C;\n",
              "      box-shadow: 0px 1px 3px 1px rgba(0, 0, 0, 0.15);\n",
              "      filter: drop-shadow(0px 1px 2px rgba(0, 0, 0, 0.3));\n",
              "      fill: #FFFFFF;\n",
              "    }\n",
              "  </style>\n",
              "\n",
              "      <script>\n",
              "        const buttonEl =\n",
              "          document.querySelector('#df-57feda6d-49bd-4b74-92e8-a7d37460be70 button.colab-df-convert');\n",
              "        buttonEl.style.display =\n",
              "          google.colab.kernel.accessAllowed ? 'block' : 'none';\n",
              "\n",
              "        async function convertToInteractive(key) {\n",
              "          const element = document.querySelector('#df-57feda6d-49bd-4b74-92e8-a7d37460be70');\n",
              "          const dataTable =\n",
              "            await google.colab.kernel.invokeFunction('convertToInteractive',\n",
              "                                                     [key], {});\n",
              "          if (!dataTable) return;\n",
              "\n",
              "          const docLinkHtml = 'Like what you see? Visit the ' +\n",
              "            '<a target=\"_blank\" href=https://colab.research.google.com/notebooks/data_table.ipynb>data table notebook</a>'\n",
              "            + ' to learn more about interactive tables.';\n",
              "          element.innerHTML = '';\n",
              "          dataTable['output_type'] = 'display_data';\n",
              "          await google.colab.output.renderOutput(dataTable, element);\n",
              "          const docLink = document.createElement('div');\n",
              "          docLink.innerHTML = docLinkHtml;\n",
              "          element.appendChild(docLink);\n",
              "        }\n",
              "      </script>\n",
              "    </div>\n",
              "  </div>\n",
              "  "
            ]
          },
          "metadata": {},
          "execution_count": 6
        }
      ]
    },
    {
      "cell_type": "code",
      "source": [],
      "metadata": {
        "id": "moLXHqeOrsR9"
      },
      "execution_count": 6,
      "outputs": []
    },
    {
      "cell_type": "code",
      "source": [
        "dataset = tf.data.Dataset.from_tensor_slices(\n",
        "    (tf.cast(ratings['user_id'].astype(str).values.reshape(-1,1), tf.string),\n",
        "     tf.cast(ratings['pratilipi_id'].astype(str).values.reshape(-1,1), tf.string),\n",
        "     tf.cast(ratings['read_percent'].values.reshape(-1,1), tf.float32)))\n",
        "train_ds = dataset.take(int(0.75 * len(dataset)))\n",
        "len(train_ds)"
      ],
      "metadata": {
        "colab": {
          "base_uri": "https://localhost:8080/"
        },
        "id": "0ssEk1THdRSv",
        "outputId": "296015eb-d1e7-430d-dce3-f6d6f0edce64"
      },
      "execution_count": 7,
      "outputs": [
        {
          "output_type": "execute_result",
          "data": {
            "text/plain": [
              "7500"
            ]
          },
          "metadata": {},
          "execution_count": 7
        }
      ]
    },
    {
      "cell_type": "code",
      "source": [
        "test_ds = dataset.skip(int(0.75 * len(dataset)))\n",
        "len(test_ds)"
      ],
      "metadata": {
        "colab": {
          "base_uri": "https://localhost:8080/"
        },
        "id": "IoQ1mC27rpMl",
        "outputId": "a672f30f-f101-4a74-c351-45b1d21030d0"
      },
      "execution_count": 8,
      "outputs": [
        {
          "output_type": "execute_result",
          "data": {
            "text/plain": [
              "2500"
            ]
          },
          "metadata": {},
          "execution_count": 8
        }
      ]
    },
    {
      "cell_type": "code",
      "source": [
        "@tf.function\n",
        "def rename(x0,x1,x2):\n",
        "    y = {}\n",
        "    y['user_id'] = x0\n",
        "    y['pratilipi_id'] = x1\n",
        "    y['read_percent'] = x2\n",
        "    return y\n",
        "\n",
        "train_ds = train_ds.map(rename)\n",
        "test_ds = test_ds.map(rename)"
      ],
      "metadata": {
        "id": "ZnDZ2r5we61X"
      },
      "execution_count": 9,
      "outputs": []
    },
    {
      "cell_type": "code",
      "source": [
        "train_ds"
      ],
      "metadata": {
        "colab": {
          "base_uri": "https://localhost:8080/"
        },
        "id": "2XEnUBDFh9dy",
        "outputId": "fa12c6a1-da92-4670-cf98-53157618ad92"
      },
      "execution_count": 10,
      "outputs": [
        {
          "output_type": "execute_result",
          "data": {
            "text/plain": [
              "<MapDataset element_spec={'user_id': TensorSpec(shape=(1,), dtype=tf.string, name=None), 'pratilipi_id': TensorSpec(shape=(1,), dtype=tf.string, name=None), 'read_percent': TensorSpec(shape=(1,), dtype=tf.float32, name=None)}>"
            ]
          },
          "metadata": {},
          "execution_count": 10
        }
      ]
    },
    {
      "cell_type": "code",
      "source": [
        "books = ratings['pratilipi_id'].astype(str).values\n",
        "users = ratings['user_id'].astype(str).values\n",
        "\n",
        "unique_book_titles = np.unique(list(books))\n",
        "unique_user_ids = np.unique(list(users))"
      ],
      "metadata": {
        "id": "Wi_FpA-1fjbc"
      },
      "execution_count": 11,
      "outputs": []
    },
    {
      "cell_type": "code",
      "source": [],
      "metadata": {
        "id": "c_dAh7DuhWeg"
      },
      "execution_count": 11,
      "outputs": []
    },
    {
      "cell_type": "code",
      "source": [
        "class RankingModel(tf.keras.Model):\n",
        "\n",
        "  def __init__(self):\n",
        "    super().__init__()\n",
        "    embedding_dimension = 32\n",
        "\n",
        "    # Compute embeddings for users.\n",
        "    self.user_embeddings = tf.keras.Sequential([\n",
        "      tf.keras.layers.experimental.preprocessing.StringLookup(\n",
        "        vocabulary=unique_user_ids, mask_token=None),\n",
        "      tf.keras.layers.Embedding(len(unique_user_ids) + 1, embedding_dimension)\n",
        "    ])\n",
        "\n",
        "    # Compute embeddings for books.\n",
        "    self.book_embeddings = tf.keras.Sequential([\n",
        "      tf.keras.layers.experimental.preprocessing.StringLookup(\n",
        "        vocabulary=unique_book_titles, mask_token=None),\n",
        "      tf.keras.layers.Embedding(len(unique_book_titles) + 1, embedding_dimension)\n",
        "    ])\n",
        "\n",
        "    # Compute predictions.\n",
        "    self.ratings = tf.keras.Sequential([\n",
        "      # Learn multiple dense layers.\n",
        "      tf.keras.layers.Dense(256, activation=\"relu\"),\n",
        "      tf.keras.layers.Dense(64, activation=\"relu\"),\n",
        "      # Make rating predictions in the final layer.\n",
        "      tf.keras.layers.Dense(1)\n",
        "  ])\n",
        "\n",
        "  def __call__(self, x):\n",
        "    \n",
        "    user_id, book_name = x\n",
        "    user_embedding = self.user_embeddings(user_id)\n",
        "    book_embedding = self.book_embeddings(book_name)\n",
        "\n",
        "    return self.ratings(tf.concat([user_embedding, book_embedding], axis=1))"
      ],
      "metadata": {
        "id": "4sJt4IGDhWcN"
      },
      "execution_count": 12,
      "outputs": []
    },
    {
      "cell_type": "code",
      "source": [
        "class BooksModel(tfrs.models.Model):\n",
        "\n",
        "  def __init__(self):\n",
        "    super().__init__()\n",
        "\n",
        "    self.ranking_model: tf.keras.Model = RankingModel()\n",
        "\n",
        "    self.task: tf.keras.layers.Layer = tfrs.tasks.Ranking(\n",
        "      loss = tf.keras.losses.MeanSquaredError(),\n",
        "      metrics=[tf.keras.metrics.RootMeanSquaredError()]\n",
        "    )\n",
        "\n",
        "  def compute_loss(self, features, training=False) -> tf.Tensor:\n",
        "    print(features)\n",
        "    rating_predictions = self.ranking_model((features['user_id'], features['pratilipi_id']))\n",
        "\n",
        "    # The task computes the loss and the metrics.\n",
        "    return self.task(labels=features['read_percent'], predictions=rating_predictions)"
      ],
      "metadata": {
        "id": "75aOFh3ohXBw"
      },
      "execution_count": 13,
      "outputs": []
    },
    {
      "cell_type": "code",
      "source": [
        "model = BooksModel()\n",
        "model.compile(optimizer=tf.keras.optimizers.Adagrad(learning_rate=0.1))\n",
        "# Cache the dataset \n",
        "cache_train_ds = train_ds.cache()\n",
        "# Tensorboard \n",
        "logdir = \"logs/scalars/\" + datetime.now().strftime(\"%Y%m%d-%H%M%S\")\n",
        "tensorboard_callback = tf.keras.callbacks.TensorBoard(log_dir=logdir)\n",
        "# Training \n",
        "model.fit(cache_train_ds, validation_data=test_ds, epochs=2,\n",
        "                    verbose=1, callbacks=[tensorboard_callback])"
      ],
      "metadata": {
        "colab": {
          "base_uri": "https://localhost:8080/"
        },
        "id": "Ei-V4vLfhYgI",
        "outputId": "b89bd920-e74a-41c0-db42-d2496f695bdf"
      },
      "execution_count": 14,
      "outputs": [
        {
          "output_type": "stream",
          "name": "stdout",
          "text": [
            "Epoch 1/2\n",
            "{'user_id': <tf.Tensor 'IteratorGetNext:2' shape=(1,) dtype=string>, 'pratilipi_id': <tf.Tensor 'IteratorGetNext:0' shape=(1,) dtype=string>, 'read_percent': <tf.Tensor 'IteratorGetNext:1' shape=(1,) dtype=float32>}\n",
            "{'user_id': <tf.Tensor 'IteratorGetNext:2' shape=(1,) dtype=string>, 'pratilipi_id': <tf.Tensor 'IteratorGetNext:0' shape=(1,) dtype=string>, 'read_percent': <tf.Tensor 'IteratorGetNext:1' shape=(1,) dtype=float32>}\n",
            "7494/7500 [============================>.] - ETA: 0s - root_mean_squared_error: 28.4438 - loss: 809.0497 - regularization_loss: 0.0000e+00 - total_loss: 809.0497{'user_id': <tf.Tensor 'IteratorGetNext:2' shape=(1,) dtype=string>, 'pratilipi_id': <tf.Tensor 'IteratorGetNext:0' shape=(1,) dtype=string>, 'read_percent': <tf.Tensor 'IteratorGetNext:1' shape=(1,) dtype=float32>}\n",
            "7500/7500 [==============================] - 35s 4ms/step - root_mean_squared_error: 28.4451 - loss: 809.0305 - regularization_loss: 0.0000e+00 - total_loss: 809.0305 - val_root_mean_squared_error: 24.1673 - val_loss: 167.1042 - val_regularization_loss: 0.0000e+00 - val_total_loss: 167.1042\n",
            "Epoch 2/2\n",
            "7500/7500 [==============================] - 26s 4ms/step - root_mean_squared_error: 16.0929 - loss: 258.9517 - regularization_loss: 0.0000e+00 - total_loss: 258.9517 - val_root_mean_squared_error: 25.7902 - val_loss: 173.1232 - val_regularization_loss: 0.0000e+00 - val_total_loss: 173.1232\n"
          ]
        },
        {
          "output_type": "execute_result",
          "data": {
            "text/plain": [
              "<keras.callbacks.History at 0x7f8c02d32a10>"
            ]
          },
          "metadata": {},
          "execution_count": 14
        }
      ]
    },
    {
      "cell_type": "code",
      "source": [
        "# Find top 20 books for the user_id \"5506791992269694\"\n",
        "user8 = np.array([\"5506791992269694\" for i in range(len(unique_book_titles))])\n",
        "# Convert it to tf.data.Dataset \n",
        "test_data = tf.data.Dataset.from_tensor_slices((tf.cast(user8.reshape(-1,1), tf.string), tf.cast(unique_book_titles.reshape(-1,1), tf.string)))\n",
        "# Name the columns \n",
        "@tf.function\n",
        "def rename_test(x0,x1):\n",
        "    y = {}\n",
        "    y[\"user_id\"] = x0\n",
        "    y['pratilipi_id'] = x1\n",
        "    return y\n",
        "test_data = test_data.map(rename_test)\n",
        "# Now lets make predictions and store them in to dictionary\n",
        "test_ratings = {}\n",
        "for b in test_data:\n",
        "    test_ratings[b['pratilipi_id'].numpy()[0]] = model.ranking_model((b['user_id'],b['pratilipi_id']))\n",
        "# sort them by score and print the titles \n",
        "i = 0\n",
        "for b in sorted(test_ratings, key=test_ratings.get, reverse=True):\n",
        "    print(b)\n",
        "    if i==10:\n",
        "      break\n",
        "    i += 1"
      ],
      "metadata": {
        "colab": {
          "base_uri": "https://localhost:8080/"
        },
        "id": "CEH-OqyEhv12",
        "outputId": "a3aa6ee9-675e-40c9-a6e4-0fa1f492cb4d"
      },
      "execution_count": 40,
      "outputs": [
        {
          "output_type": "stream",
          "name": "stdout",
          "text": [
            "b'1377786225708711'\n",
            "b'1377786228189551'\n",
            "b'1377786227169761'\n",
            "b'1377786221510764'\n",
            "b'1377786227147146'\n",
            "b'1377786222463691'\n",
            "b'1377786224822301'\n",
            "b'1377786224860795'\n",
            "b'1377786223040210'\n",
            "b'1377786224821569'\n",
            "b'1377786228109947'\n"
          ]
        }
      ]
    }
  ]
}